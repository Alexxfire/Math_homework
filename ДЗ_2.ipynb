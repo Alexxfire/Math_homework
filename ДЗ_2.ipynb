{
  "nbformat": 4,
  "nbformat_minor": 0,
  "metadata": {
    "colab": {
      "provenance": []
    },
    "kernelspec": {
      "name": "python3",
      "display_name": "Python 3"
    },
    "language_info": {
      "name": "python"
    }
  },
  "cells": [
    {
      "cell_type": "markdown",
      "source": [
        "**1. Вероятность того, что стрелок попадет в мишень, выстрелив один раз, равна 0.8. Стрелок выстрелил 100 раз. Найдите вероятность того, что стрелок попадет в цель ровно 85 раз.**\n",
        "\n",
        "Используем формулу Бернулли:   \n",
        "$P_{n}(X=k)=C^k_{n}*p^{k}*q^{n-k}$, где\n",
        "\n",
        "$p = 0,8$\n",
        "\n",
        "$q = 1 - p = 0,2$\n",
        "\n",
        "и формулу сочетаний:\n",
        "$C^k_n=\\frac{n!}{k!(n-k)!}$\n",
        "\n"
      ],
      "metadata": {
        "id": "DnQVAAg6Mh2O"
      }
    },
    {
      "cell_type": "code",
      "source": [
        "from math import factorial\n",
        "\n",
        "def sochetanie(n, k):\n",
        "    return int(factorial(n) / (factorial(k) * factorial(n - k)))\n",
        "\n",
        "def nebernulli(n, k, p, q):\n",
        "    return (p**k)*(q**(n-k))\n",
        "\n",
        "print(f'P = {round(sochetanie(100,85)*nebernulli(100,85,0.8,0.2)*100,2)}%')\n",
        " "
      ],
      "metadata": {
        "colab": {
          "base_uri": "https://localhost:8080/"
        },
        "id": "acIVD4skQUlg",
        "outputId": "e7226f44-0a25-4a1e-a43d-f3d041899434"
      },
      "execution_count": 2,
      "outputs": [
        {
          "output_type": "stream",
          "name": "stdout",
          "text": [
            "P = 4.81%\n"
          ]
        }
      ]
    },
    {
      "cell_type": "markdown",
      "source": [
        "**2. Вероятность того, что лампочка перегорит в течение первого дня эксплуатации, равна 0.0004. В жилом комплексе после ремонта в один день включили 5000 новых лампочек. Какова вероятность, что ни одна из них не перегорит в первый день? Какова вероятность, что перегорят ровно две?**\n",
        "\n",
        "Используем формулу Пуассона:\n",
        "\n",
        "$P_m=\\frac{\\lambda^m}{m!}\\cdot e^{-\\lambda}$\n",
        "\n",
        "$\\lambda$ = n*p = 0.0004 * 5000 = 2\n",
        "\n",
        "m = 0 (ни одна)\n",
        "\n",
        "m = 2 (две)"
      ],
      "metadata": {
        "id": "1UHTEUA6KAa7"
      }
    },
    {
      "cell_type": "code",
      "source": [
        "print(f'P = {round(2**0/factorial(0)*2.7183**(-2)*100,2)}% (ни одна)')\n",
        "print(f'P = {round(2**2/factorial(2)*2.7183**(-2)*100,2)}% (две)')"
      ],
      "metadata": {
        "colab": {
          "base_uri": "https://localhost:8080/"
        },
        "id": "ou3oZOzFMLNl",
        "outputId": "9e2d5087-f81f-4396-b55f-18ac356e4aec"
      },
      "execution_count": 8,
      "outputs": [
        {
          "output_type": "stream",
          "name": "stdout",
          "text": [
            "P = 13.53% (ни одна)\n",
            "P = 27.07% (две)\n"
          ]
        }
      ]
    },
    {
      "cell_type": "markdown",
      "source": [
        "**3. Монету подбросили 144 раза. Какова вероятность, что орел выпадет ровно 70 раз?**\n",
        "\n",
        "Используем формулу Бернулли:   \n",
        "$P_{n}(X=k)=C^k_{n}*p^{k}*q^{n-k}$, где\n",
        "\n",
        "$p = 0,5$\n",
        "\n",
        "$q = 1 - p = 0,5$\n",
        "\n",
        "и формулу сочетаний:\n",
        "$C^k_n=\\frac{n!}{k!(n-k)!}$"
      ],
      "metadata": {
        "id": "P3KujW8wNK16"
      }
    },
    {
      "cell_type": "code",
      "source": [
        "print(f'P = {round(sochetanie(144,70)*nebernulli(144,70,0.5,0.5)*100,2)}%')"
      ],
      "metadata": {
        "colab": {
          "base_uri": "https://localhost:8080/"
        },
        "id": "G3FbRC4zODmJ",
        "outputId": "1591d453-c88b-4d63-e797-e429a4eb05cb"
      },
      "execution_count": 9,
      "outputs": [
        {
          "output_type": "stream",
          "name": "stdout",
          "text": [
            "P = 6.28%\n"
          ]
        }
      ]
    },
    {
      "cell_type": "markdown",
      "source": [
        "**4. В первом ящике находится 10 мячей, из которых 7 - белые. Во втором ящике - 11 мячей, из которых 9 белых. Из каждого ящика вытаскивают случайным образом по два мяча. Какова вероятность того, что все мячи белые? Какова вероятность того, что ровно два мяча белые? Какова вероятность того, что хотя бы один мяч белый?**\n",
        "\n",
        "1)Вероятность, что все мячи белые: $\\frac{7}{10}$ * $\\frac{6}{9}$ * $\\frac{9}{11}$ * $\\frac{8}{10}$ = 30.55%\n",
        "\n",
        "2)Вероятность, что 2 мяча белые: $(\\frac{7}{10}$ * $\\frac{6}{9}$ * $\\frac{2}{11}$ * $\\frac{1}{10})$ + $(\\frac{3}{10}$ * $\\frac{2}{9}$ * $\\frac{9}{11}$ * $\\frac{8}{10})$ + $(\\frac{7}{10}$ * $\\frac{3}{9}$ * $\\frac{9}{11}$ * $\\frac{2}{10})$ + $(\\frac{3}{10}$ * $\\frac{7}{9}$ * $\\frac{2}{11}$ * $\\frac{9}{10})$ + $(\\frac{7}{10}$ * $\\frac{3}{9}$ * $\\frac{2}{11}$ * $\\frac{9}{10})$ + $(\\frac{3}{10}$ * $\\frac{7}{9}$ * $\\frac{9}{11}$ * $\\frac{2}{10})$ = 20.48%\n",
        "\n",
        "3) Вероятность, что хотя бы 1 мяч белый: 1 - ($\\frac{3}{10}$ * $\\frac{2}{9}$ * $\\frac{2}{11}$ * $\\frac{1}{10}$) = 99,88%"
      ],
      "metadata": {
        "id": "qzoVBV0vPM29"
      }
    },
    {
      "cell_type": "code",
      "source": [
        "print(f'1) {round((7/10)*(6/9)*(9/11)*(8/10)*100,2)}%')\n",
        "\n",
        "print(f'2) {round(((7/10)*(6/9)*(2/11)*(1/10) + (3/10)*(2/9)*(9/11)*(8/10) + (7/10)*(3/9)*(9/11)*(2/10) + (3/10)*(7/9)*(2/11)*(9/10) + (7/10)*(3/9)*(2/11)*(9/10) + (3/10)*(7/9)*(9/11)*(2/10))*100,2)}%')\n",
        "\n",
        "print(f'3) {100 - round((3/10)*(2/9)*(2/11)*(1/10)*100,2)}%')"
      ],
      "metadata": {
        "colab": {
          "base_uri": "https://localhost:8080/"
        },
        "id": "zEDsQWCvxjD0",
        "outputId": "17eea00a-16a5-42a2-982b-d3c368c62953"
      },
      "execution_count": 46,
      "outputs": [
        {
          "output_type": "stream",
          "name": "stdout",
          "text": [
            "1) 30.55%\n",
            "2) 20.48%\n",
            "3) 99.88%\n"
          ]
        }
      ]
    }
  ]
}