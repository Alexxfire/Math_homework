{
  "nbformat": 4,
  "nbformat_minor": 0,
  "metadata": {
    "colab": {
      "provenance": []
    },
    "kernelspec": {
      "name": "python3",
      "display_name": "Python 3"
    },
    "language_info": {
      "name": "python"
    }
  },
  "cells": [
    {
      "cell_type": "markdown",
      "source": [
        "**Задача 1. Даны значения зарплат из выборки выпускников: 100, 80, 75, 77, 89, 33, 45, 25, 65, 17, 30, 24, 57, 55, 70, 75, 65, 84, 90, 150. Посчитать (желательно без использования статистических методов наподобие std, var, mean) среднее арифметическое, среднее квадратичное отклонение, смещенную и несмещенную оценки дисперсий для данной выборки.**\n",
        "\n",
        "Воспользуемся следующими формулами:   \n",
        "\n",
        "Ср. квадратическое отклонение:\n",
        "\n",
        "$\\sigma=\\sqrt{\\frac{\\displaystyle\\sum^n_{i=1}(x_{i}-\\bar x)^2}{n-1}}$\n",
        "\n",
        "Смещенная дисперсия:\n",
        "\n",
        "$\\sigma^2=\\frac{\\displaystyle\\sum^n_{i=1}(x_{i}-\\bar x)^2}{n}$\n",
        "\n",
        "Несмещенная дисперсия:\n",
        "\n",
        "$\\sigma^2=\\frac{\\displaystyle\\sum^n_{i=1}(x_{i}-\\bar x)^2}{n-1}$"
      ],
      "metadata": {
        "id": "DnQVAAg6Mh2O"
      }
    },
    {
      "cell_type": "code",
      "source": [
        "zarplata = [100, 80, 75, 77, 89, 33, 45, 25, 65, 17, 30, 24, 57, 55, 70, 75, 65, 84, 90, 150]\n",
        "\n",
        "S = 0\n",
        "for i in zarplata:\n",
        "  S = S + i\n",
        "s_arifm = S/len(zarplata)\n",
        "print (f'S.ARIFM = {s_arifm}')\n",
        "\n",
        "SS = 0\n",
        "for j in zarplata:\n",
        "  SS = SS + (j - s_arifm)**2\n",
        "s_kv_otkl = round((SS/(len(zarplata)-1))**0.5,2)\n",
        "print (f'S.KV.OTKL = {s_kv_otkl}')\n",
        "\n",
        "nesmech = round(SS/(len(zarplata)-1),2)\n",
        "print (f'NESMECH = {nesmech}')\n",
        "\n",
        "smech = round(SS/(len(zarplata)),2)\n",
        "print (f'SMECH = {smech}')\n"
      ],
      "metadata": {
        "colab": {
          "base_uri": "https://localhost:8080/"
        },
        "id": "acIVD4skQUlg",
        "outputId": "5cf43456-229e-4dbc-86b8-b8f2c7713bb5"
      },
      "execution_count": 15,
      "outputs": [
        {
          "output_type": "stream",
          "name": "stdout",
          "text": [
            "S.ARIFM = 65.3\n",
            "S.KV.OTKL = 31.62\n",
            "NESMECH = 1000.12\n",
            "SMECH = 950.11\n"
          ]
        }
      ]
    },
    {
      "cell_type": "markdown",
      "source": [
        "**Задача 2. В первом ящике находится 8 мячей, из которых 5 - белые. Во втором ящике - 12 мячей, из которых 5 белых. Из первого ящика вытаскивают случайным образом два мяча, из второго - 4 мяча. Какова вероятность того, что 3 мяча белые?**\n",
        "\n",
        "$P=P_1 + P_2 + P_3$\n",
        "\n",
        "P1 - из первой корзины не вытащили ни одного белого мяча, из второй вытащили 3 белых мяча;\n",
        "\n",
        "P2 - из первой корзины вытащили 1 белый мяч, из второй вытащили 2 белых мяча;\n",
        "\n",
        "P3 - из первой корзины вытащили 2 белых мяча, из второй вытащили 1 белый мяч.\n",
        "\n",
        "Используем формулу для сочетаний, например:\n",
        "$P_1=\\frac{C^2_3}{C^2_8}\\cdot\\frac{C^3_5\\cdot C^1_7}{C^4_{12}}$"
      ],
      "metadata": {
        "id": "1UHTEUA6KAa7"
      }
    },
    {
      "cell_type": "code",
      "source": [
        "from math import factorial\n",
        "def sochetanie(n, k):\n",
        "    return int(factorial(n) / (factorial(k) * factorial(n - k)))\n",
        "\n",
        "P1 = sochetanie(3,2)/sochetanie(8,2)*sochetanie(5,3)*sochetanie(7,1)/sochetanie(12,4)\n",
        "P2 = sochetanie(5,1)*sochetanie(3,1)/sochetanie(8,2)*sochetanie(5,2)*sochetanie(7,2)/sochetanie(12,4)\n",
        "P3 = sochetanie(5,2)/sochetanie(8,2)*sochetanie(5,1)*sochetanie(7,3)/sochetanie(12,4)\n",
        "P = round(P1 + P2 + P3,3)\n",
        "print(f'P = {P*100}%')\n",
        "\n",
        "\n",
        "#print(f'P = {round(2**0/factorial(0)*2.7183**(-2)*100,2)}% (ни одна)')\n",
        "#print(f'P = {round(2**2/factorial(2)*2.7183**(-2)*100,2)}% (две)')"
      ],
      "metadata": {
        "colab": {
          "base_uri": "https://localhost:8080/"
        },
        "id": "ou3oZOzFMLNl",
        "outputId": "c102cc09-c728-4aa1-f50a-2cc8f3960b92"
      },
      "execution_count": 13,
      "outputs": [
        {
          "output_type": "stream",
          "name": "stdout",
          "text": [
            "P = 36.9%\n"
          ]
        }
      ]
    },
    {
      "cell_type": "markdown",
      "source": [
        "**Задача 3. На соревновании по биатлону один из трех спортсменов стреляет и попадает в мишень. Вероятность попадания для первого спортсмена равна 0.9, для второго — 0.8, для третьего — 0.6. Найти вероятность того, что выстрел произведен: a). первым спортсменом б). вторым спортсменом в). третьим спортсменом.**\n",
        "\n",
        "Используем формулу Байеса:   \n",
        "$P(B_n|A)=\\frac{P(A|B_n) * P(B_n)}{P(A)}$, где\n",
        "\n",
        "$P(B_n) = \\frac{1}{3}$\n",
        "\n",
        "$P(A) = 0.9 * \\frac{1}{3} + 0.8 * \\frac{1}{3} + 0.6 * \\frac{1}{3} $"
      ],
      "metadata": {
        "id": "P3KujW8wNK16"
      }
    },
    {
      "cell_type": "code",
      "source": [
        "PB=1/3\n",
        "PA=PB*0.9+PB*0.8+PB*0.6\n",
        "print(f'P1 = {round(PB*0.9/PA*100,2)}%')\n",
        "print(f'P2 = {round(PB*0.8/PA*100,2)}%')\n",
        "print(f'P3 = {round(PB*0.6/PA*100,2)}%')"
      ],
      "metadata": {
        "colab": {
          "base_uri": "https://localhost:8080/"
        },
        "id": "G3FbRC4zODmJ",
        "outputId": "5f8b60f4-799e-435f-f230-195c457f573b"
      },
      "execution_count": 16,
      "outputs": [
        {
          "output_type": "stream",
          "name": "stdout",
          "text": [
            "P1 = 39.13%\n",
            "P2 = 34.78%\n",
            "P3 = 26.09%\n"
          ]
        }
      ]
    },
    {
      "cell_type": "markdown",
      "source": [
        "**Задача 4. В университет на факультеты A и B поступило равное количество студентов, а на факультет C студентов поступило столько же, сколько на A и B вместе. Вероятность того, что студент факультета A сдаст первую сессию, равна 0.8. Для студента факультета B эта вероятность равна 0.7, а для студента факультета C - 0.9. Студент сдал первую сессию. Какова вероятность, что он учится: a). на факультете A б). на факультете B в). на факультете C?**\n",
        "\n",
        "Используем формулу Байеса:   \n",
        "$P(B_n|A)=\\frac{P(A|B_n) * P(B_n)}{P(A)}$, где\n",
        "\n",
        "$P(B_1) = \\frac{1}{2}*\\frac{1}{2}$\\\n",
        "$P(B_2) = \\frac{1}{2}*\\frac{1}{2}$\\\n",
        "$P(B_3) = \\frac{1}{2}$\n",
        "\n",
        "$P(A) = 0.8 * \\frac{1}{4} + 0.7 * \\frac{1}{4} + 0.9 * \\frac{1}{2}$"
      ],
      "metadata": {
        "id": "qzoVBV0vPM29"
      }
    },
    {
      "cell_type": "code",
      "source": [
        "PB1=1/4\n",
        "PB2=1/4\n",
        "PB3=1/2\n",
        "PA=PB1*0.8+PB2*0.7+PB3*0.9\n",
        "print(f'P1 = {round(PB1*0.8/PA*100,2)}%')\n",
        "print(f'P2 = {round(PB2*0.7/PA*100,2)}%')\n",
        "print(f'P3 = {round(PB3*0.9/PA*100,2)}%')"
      ],
      "metadata": {
        "colab": {
          "base_uri": "https://localhost:8080/"
        },
        "id": "zEDsQWCvxjD0",
        "outputId": "55f6ca26-5f2b-46c9-81ba-898fb6ab6759"
      },
      "execution_count": 17,
      "outputs": [
        {
          "output_type": "stream",
          "name": "stdout",
          "text": [
            "P1 = 24.24%\n",
            "P2 = 21.21%\n",
            "P3 = 54.55%\n"
          ]
        }
      ]
    },
    {
      "cell_type": "markdown",
      "source": [
        "**Задача 5. Устройство состоит из трех деталей. Для первой детали вероятность выйти из строя в первый месяц равна 0.1, для второй - 0.2, для третьей - 0.25. Какова вероятность того, что в первый месяц выйдут из строя: а). все детали б). только две детали в). хотя бы одна деталь г). от одной до двух деталей?**\n",
        "\n",
        "a) $P = P(A_1)* P(A_2) * P(A_3)$\n",
        "\n",
        "б) $P = P(A_1)* P(A_2) * P(\\bar A_3) + P(A_1)* P(A_3) * P(\\bar A_2) + P(A_3)* P(A_2) * P(\\bar A_1)$\n",
        "\n",
        "в)  $P = 1 - P(\\bar A_1)* P(\\bar A_2) * P(\\bar A_3)$\n",
        "\n",
        "г) $P = P(A_1)* P(\\bar A_2) * P(\\bar A_3) + P(\\bar A_1)* P(A_2) * P(\\bar A_3) + P(\\bar A_1)* P(\\bar A_2) * P(A_3) + P(б)$\n"
      ],
      "metadata": {
        "id": "aio3SIy6rMkW"
      }
    },
    {
      "cell_type": "code",
      "source": [
        "print(f'а) P = {round(0.1*0.2*0.25*100,2)}%')\n",
        "print(f'б) P = {round((0.1*0.2*0.75+0.1*0.8*0.25+0.9*0.2*0.25)*100,2)}%')\n",
        "print(f'в) P = {round((1-(0.9*0.8*0.75))*100,2)}%')\n",
        "print(f'г) P = {round((0.1*0.8*0.75+0.9*0.8*0.25+0.9*0.2*0.75+0.1*0.2*0.75+0.1*0.8*0.25+0.9*0.2*0.25)*100,2)}%')"
      ],
      "metadata": {
        "colab": {
          "base_uri": "https://localhost:8080/"
        },
        "id": "InLtQ7vbvxEz",
        "outputId": "923a6b42-d3f9-464b-fd21-1ce5b5d9b356"
      },
      "execution_count": 27,
      "outputs": [
        {
          "output_type": "stream",
          "name": "stdout",
          "text": [
            "а) P = 0.5%\n",
            "б) P = 8.0%\n",
            "в) P = 46.0%\n",
            "г) P = 45.5%\n"
          ]
        }
      ]
    }
  ]
}