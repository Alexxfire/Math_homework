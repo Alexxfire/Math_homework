{
  "nbformat": 4,
  "nbformat_minor": 0,
  "metadata": {
    "colab": {
      "provenance": []
    },
    "kernelspec": {
      "name": "python3",
      "display_name": "Python 3"
    },
    "language_info": {
      "name": "python"
    }
  },
  "cells": [
    {
      "cell_type": "markdown",
      "source": [
        "**Провести дисперсионный анализ для определения того, есть ли различия среднего роста среди взрослых футболистов, хоккеистов и штангистов.\n",
        "Даны значения роста в трех группах случайно выбранных спортсменов:\n",
        "Футболисты: 173, 175, 180, 178, 177, 185, 183, 182.\n",
        "Хоккеисты: 177, 179, 180, 188, 177, 172, 171, 184, 180.\n",
        "Штангисты: 172, 173, 169, 177, 166, 180, 178, 177, 172, 166, 170.**\n",
        "\n",
        "Протестируем гипотезу:\n",
        "$H_0$  - различий между группами нет, т.е.\n",
        "\n",
        "$\\mu_1 = \\mu_2 = \\mu_3$\n",
        "\n",
        "Воспользуемся критерием Фишера:\n",
        "\n",
        "$F_n=\\frac{\\sigma_ф^2}{\\sigma_о^2}$ \n",
        "\n",
        "$\\sigma_ф^2=\\frac{S_ф^2}{k-1}$\n",
        "\n",
        "$\\sigma_о^2=\\frac{S_о^2}{n-k}$"
      ],
      "metadata": {
        "id": "DnQVAAg6Mh2O"
      }
    },
    {
      "cell_type": "code",
      "source": [
        "import numpy as np\n",
        "import matplotlib.pyplot as plt\n",
        "from scipy import stats \n",
        "\n",
        "foot=np.array([173, 175, 180, 178, 177, 185, 183, 182])\n",
        "hock=np.array([177, 179, 180, 188, 177, 172, 171, 184, 180])\n",
        "lift=np.array([172, 173, 169, 177, 166, 180, 178, 177, 172, 166, 170])\n",
        "total = np.hstack([foot, hock, lift])\n",
        "\n",
        "k = 3\n",
        "n = 28\n",
        "\n",
        "plt.scatter(x = (['f','f','f','f','f','f','f','f']), y = foot, c = 'deeppink', marker = 'o')\n",
        "plt.scatter(x = (['h','h','h','h','h','h','h','h','h']), y = hock, c = 'green', marker = 'o')\n",
        "plt.scatter(x = (['l','l','l','l','l','l','l','l','l','l','l']), y = lift, c = 'blue', marker = 'o')\n",
        "plt.ylim([125, 200])\n",
        "plt.show()"
      ],
      "metadata": {
        "colab": {
          "base_uri": "https://localhost:8080/",
          "height": 435
        },
        "id": "DcwvedKPtt7H",
        "outputId": "dd42ba45-374e-46e8-821b-e292e257cdf3"
      },
      "execution_count": 8,
      "outputs": [
        {
          "output_type": "display_data",
          "data": {
            "text/plain": [
              "<Figure size 640x480 with 1 Axes>"
            ],
            "image/png": "[encoded data removed]"
          },
          "metadata": {}
        }
      ]
    },
    {
      "cell_type": "code",
      "source": [
        "#найдем средние значения\n",
        "foot_mean = np.mean(foot)\n",
        "hock_mean = np.mean(hock)\n",
        "lift_mean = np.mean(lift)\n",
        "total_mean = np.mean(total)\n",
        "\n",
        "print(f' foot_mean = {foot_mean} \\n hock_mean = {hock_mean} \\n lift_mean = {lift_mean} \\n total_mean = {total_mean}')"
      ],
      "metadata": {
        "colab": {
          "base_uri": "https://localhost:8080/"
        },
        "id": "Sup3QPiAQrxd",
        "outputId": "f915de53-c75f-4c9c-de1e-8a87797e9cde"
      },
      "execution_count": 12,
      "outputs": [
        {
          "output_type": "stream",
          "name": "stdout",
          "text": [
            " foot_mean = 179.125 \n",
            " hock_mean = 178.66666666666666 \n",
            " lift_mean = 172.72727272727272 \n",
            " total_mean = 176.46428571428572\n"
          ]
        }
      ]
    },
    {
      "cell_type": "code",
      "source": [
        "#Сумма квадратов отклонений наблюдений от общего среднего\n",
        "print(np.sum((total - total_mean)**2))"
      ],
      "metadata": {
        "colab": {
          "base_uri": "https://localhost:8080/"
        },
        "id": "e_UmFIBivw5R",
        "outputId": "c2b88064-d911-4251-8115-e9b40ee33666"
      },
      "execution_count": 17,
      "outputs": [
        {
          "output_type": "stream",
          "name": "stdout",
          "text": [
            "830.9642857142854\n"
          ]
        }
      ]
    },
    {
      "cell_type": "code",
      "source": [
        "#Сумма квадратов отклонений средних групповых зн. от общего среднего\n",
        "S_f = np.sum((foot_mean - total_mean)**2)*8 + np.sum((hock_mean - total_mean)**2)*9 + np.sum((lift_mean - total_mean)**2)*11\n",
        "print(f'S_f = {S_f}')\n",
        "\n",
        "#Остаточная сумма квадратов отклонений\n",
        "S_ost = np.sum((foot - foot_mean)**2) + np.sum((hock - hock_mean)**2) + np.sum((lift - lift_mean)**2)\n",
        "print(f'S_ost = {S_ost}')\n",
        "\n",
        "#Сложим сумму факторную с суммой остаточной = Сумма квадратов отклонений наблюдений от общего среднего\n",
        "print(S_f + S_ost)"
      ],
      "metadata": {
        "colab": {
          "base_uri": "https://localhost:8080/"
        },
        "id": "0SheYKLTvnuT",
        "outputId": "f1a3a4bc-edcd-4f7a-9ea2-3c75651e1a27"
      },
      "execution_count": 13,
      "outputs": [
        {
          "output_type": "stream",
          "name": "stdout",
          "text": [
            "S_f = 253.9074675324678\n",
            "S_ost = 577.0568181818182\n",
            "830.964285714286\n"
          ]
        }
      ]
    },
    {
      "cell_type": "code",
      "source": [
        "#Факторная дисперсия\n",
        "D_f = S_f / (k-1)\n",
        "print(f'D_f = {D_f}')\n",
        "\n",
        "#Остаточная дисперсия\n",
        "D_ost = S_ost / (n-k)\n",
        "print(f'D_ost = {D_ost}')"
      ],
      "metadata": {
        "colab": {
          "base_uri": "https://localhost:8080/"
        },
        "id": "KoGc_kuW0Rbo",
        "outputId": "e1af5e3f-5b22-4ffb-aaf2-0fcef4b185a3"
      },
      "execution_count": 14,
      "outputs": [
        {
          "output_type": "stream",
          "name": "stdout",
          "text": [
            "D_f = 126.9537337662339\n",
            "D_ost = 23.08227272727273\n"
          ]
        }
      ]
    },
    {
      "cell_type": "code",
      "source": [
        "#Критерий Фишера наблюдаемый\n",
        "F_n = D_f / D_ost\n",
        "print(f'F_n = {F_n}')"
      ],
      "metadata": {
        "colab": {
          "base_uri": "https://localhost:8080/"
        },
        "id": "B2S16K1z02Oc",
        "outputId": "1fbbd372-3744-49ab-f48b-e5a34a1030bc"
      },
      "execution_count": 16,
      "outputs": [
        {
          "output_type": "stream",
          "name": "stdout",
          "text": [
            "F_n = 5.500053450812598\n"
          ]
        }
      ]
    },
    {
      "cell_type": "markdown",
      "source": [
        "**Табличный критерий = 3,38 при уровне зн. 0,05**\n",
        "\n",
        "3,38 < 5.5\n",
        "\n",
        "**Гипотеза $H_0$ не подтвердилась, присутствуют ст. значимые различия** "
      ],
      "metadata": {
        "id": "1kVxf83w4cVN"
      }
    },
    {
      "cell_type": "code",
      "source": [
        "#проверка\n",
        "f = stats.f_oneway(foot, hock, lift)\n",
        "print(f'f = {f}')"
      ],
      "metadata": {
        "colab": {
          "base_uri": "https://localhost:8080/"
        },
        "id": "dggpOKtL1GGa",
        "outputId": "bb33908e-90f6-488d-a184-9726b7216b67"
      },
      "execution_count": 15,
      "outputs": [
        {
          "output_type": "stream",
          "name": "stdout",
          "text": [
            "f = F_onewayResult(statistic=5.500053450812596, pvalue=0.010482206918698694)\n"
          ]
        }
      ]
    }
  ]
}