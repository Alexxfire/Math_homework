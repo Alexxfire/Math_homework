{
  "nbformat": 4,
  "nbformat_minor": 0,
  "metadata": {
    "colab": {
      "provenance": []
    },
    "kernelspec": {
      "name": "python3",
      "display_name": "Python 3"
    },
    "language_info": {
      "name": "python"
    }
  },
  "cells": [
    {
      "cell_type": "markdown",
      "source": [
        "**Задача 1. Когда используется критерий Стьюдента, а когда Z –критерий?**\n",
        "\n",
        "Z-критерий, когда известно стандартное отклоенение ген. совокупности. Распределение - нормальное. Выболрка - большая.\n",
        "Критерий Стьюдента, когда стандартное отклонение неизвестно. Выборка - небольшая. \n",
        "\n",
        "\n"
      ],
      "metadata": {
        "id": "DnQVAAg6Mh2O"
      }
    },
    {
      "cell_type": "markdown",
      "source": [
        "**Задача 2. Проведите тест гипотезы. Утверждается, что шарики для подшипников, изготовленные\n",
        "автоматическим станком, имеют средний диаметр 17 мм.\n",
        "Используя односторонний критерий с α=0,05, проверить эту гипотезу, если в выборке из\n",
        "n=100 шариков средний диаметр\n",
        "оказался равным 17.5 мм, а дисперсия известна и равна 4 кв. мм.**\n",
        "\n",
        "Воспользуемся Z критерием:  \n",
        "\n",
        "$Z=\\frac{X - \\mu}{\\sigma / \\sqrt n}$ \n",
        "\n",
        "$H0 : \\mu = \\mu_0$\n",
        "\n",
        "$H1 : \\mu > \\mu_0$"
      ],
      "metadata": {
        "id": "1UHTEUA6KAa7"
      }
    },
    {
      "cell_type": "code",
      "source": [
        "import numpy as np\n",
        "from scipy import stats\n",
        "\n",
        "Z = (17.5 - 17)/(2 / np.sqrt(100))\n",
        "print(f'Z = {Z}')"
      ],
      "metadata": {
        "colab": {
          "base_uri": "https://localhost:8080/"
        },
        "id": "ou3oZOzFMLNl",
        "outputId": "b81b100e-8734-412c-c09d-8cfc4001b7e0"
      },
      "execution_count": 3,
      "outputs": [
        {
          "output_type": "stream",
          "name": "stdout",
          "text": [
            "Z = 2.5\n"
          ]
        }
      ]
    },
    {
      "cell_type": "code",
      "source": [
        "Zt=stats.norm.ppf(1-0.05)\n",
        "print(f'Табличное Z = {Zt}')"
      ],
      "metadata": {
        "colab": {
          "base_uri": "https://localhost:8080/"
        },
        "id": "tyJ6CjKK5oH1",
        "outputId": "dbc58d3d-c6ad-4d4a-e286-41906d1ce025"
      },
      "execution_count": 7,
      "outputs": [
        {
          "output_type": "stream",
          "name": "stdout",
          "text": [
            "Табличное Z = 1.6448536269514722\n"
          ]
        }
      ]
    },
    {
      "cell_type": "markdown",
      "source": [
        "Z > Zt, гипотеза H0 не верная принимается гипотеза H1\n"
      ],
      "metadata": {
        "id": "QOxY_vXc-z1O"
      }
    },
    {
      "cell_type": "markdown",
      "source": [
        "**Задача 3. Проведите тест гипотезы. Продавец утверждает, что средний вес пачки печенья\n",
        "составляет 200 г.\n",
        "Из партии извлечена выборка из 10 пачек. Вес каждой пачки составляет:\n",
        "202, 203, 199, 197, 195, 201, 200, 204, 194, 190.\n",
        "Известно, что их веса распределены нормально.\n",
        "Верно ли утверждение продавца, если учитывать, что доверительная вероятность равна\n",
        "99%? (Провести двусторонний тест.)**\n",
        "\n",
        "Воспользуемся Z критерием:  \n",
        "\n",
        "$t=\\frac{X - \\mu}{\\sigma / \\sqrt n}$ \n",
        "\n",
        "$H0 : \\mu = \\mu_0$\n",
        "\n",
        "$H1 : \\mu \\neq \\mu_0$\n",
        "\n",
        "Уровень зн. $\\alpha=1-0.99=0.01$"
      ],
      "metadata": {
        "id": "P3KujW8wNK16"
      }
    },
    {
      "cell_type": "code",
      "source": [
        "arr=np.array([202, 203, 199, 197, 195, 201, 200, 204, 194, 190])\n",
        "print(f'Среднее: {np.mean(arr)},\\n'\n",
        "      f'Станд. несмещ.: {np.std(arr, ddof=1)}')"
      ],
      "metadata": {
        "colab": {
          "base_uri": "https://localhost:8080/"
        },
        "id": "EBk8MqypBhFN",
        "outputId": "8ea4776c-e935-4e0d-bfb2-3bed2bc93956"
      },
      "execution_count": 17,
      "outputs": [
        {
          "output_type": "stream",
          "name": "stdout",
          "text": [
            "Среднее: 198.5,\n",
            "Станд. несмещ.: 4.453463071962462\n"
          ]
        }
      ]
    },
    {
      "cell_type": "code",
      "source": [
        "t = (198.5 - 200)/(4.45 / np.sqrt(10))\n",
        "print(f' t = {t}')"
      ],
      "metadata": {
        "colab": {
          "base_uri": "https://localhost:8080/"
        },
        "id": "oJMyaWpEB4bB",
        "outputId": "c40448fa-7a40-43b2-f5db-eeee56e4caf8"
      },
      "execution_count": 18,
      "outputs": [
        {
          "output_type": "stream",
          "name": "stdout",
          "text": [
            " t = -1.0659362899443976\n"
          ]
        }
      ]
    },
    {
      "cell_type": "markdown",
      "source": [
        "Найдем табличное зн. для  $\\alpha/2=0.01/2=0.005$\n"
      ],
      "metadata": {
        "id": "Ys6kljOwGJ-u"
      }
    },
    {
      "cell_type": "code",
      "source": [
        "Tt=stats.t.ppf(0.995,len(arr)-1)\n",
        "print(f'Табличное зн.: {Tt}')"
      ],
      "metadata": {
        "colab": {
          "base_uri": "https://localhost:8080/"
        },
        "id": "iNOhlBKjH-Ic",
        "outputId": "c6fc94a8-e9da-44a1-9b93-29c23cca06d7"
      },
      "execution_count": 21,
      "outputs": [
        {
          "output_type": "stream",
          "name": "stdout",
          "text": [
            "Табличное зн.: 3.2498355440153697\n"
          ]
        }
      ]
    },
    {
      "cell_type": "markdown",
      "source": [
        "Поскольку $|t_н|<t_t$ , принимаем нулевую гипотезу на уровне значимости 0.01"
      ],
      "metadata": {
        "id": "Hzh8RfVYJx-V"
      }
    },
    {
      "cell_type": "markdown",
      "source": [
        "**Задача 4. Есть ли статистически значимые различия в росте\n",
        "дочерей?\n",
        "Рост матерей 172, 177, 158, 170, 178,175, 164, 160, 169, 165\n",
        "Рост взрослых дочерей: 173, 175, 162, 174, 175, 168, 155, 170, 160, 163"
      ],
      "metadata": {
        "id": "qzoVBV0vPM29"
      }
    },
    {
      "cell_type": "code",
      "source": [
        "x = np.array([172, 177, 158, 170, 178, 175, 164, 160, 169, 165])\n",
        "y = np.array([173, 175, 162, 174, 175, 168, 155, 170, 160, 163])\n",
        "\n",
        "stats.ttest_rel(x, y)"
      ],
      "metadata": {
        "colab": {
          "base_uri": "https://localhost:8080/"
        },
        "id": "zEDsQWCvxjD0",
        "outputId": "a0a088bb-0771-4aa8-c44f-588910e7016d"
      },
      "execution_count": 4,
      "outputs": [
        {
          "output_type": "execute_result",
          "data": {
            "text/plain": [
              "TtestResult(statistic=0.6648478531431979, pvalue=0.5228168632983574, df=9)"
            ]
          },
          "metadata": {},
          "execution_count": 4
        }
      ]
    },
    {
      "cell_type": "markdown",
      "source": [
        "pvalue > alpha следовательно статистически значимых различий не обнаружено при $\\alpha$ = 0.05"
      ],
      "metadata": {
        "id": "DU5kh4yPnZgM"
      }
    }
  ]
}