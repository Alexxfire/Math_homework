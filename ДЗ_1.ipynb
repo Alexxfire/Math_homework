{
  "nbformat": 4,
  "nbformat_minor": 0,
  "metadata": {
    "colab": {
      "provenance": []
    },
    "kernelspec": {
      "name": "python3",
      "display_name": "Python 3"
    },
    "language_info": {
      "name": "python"
    }
  },
  "cells": [
    {
      "cell_type": "markdown",
      "source": [
        "1. **Из колоды в 52 карты извлекаются случайным образом 4 карты.\n",
        "  a) Найти вероятность того, что все карты – крести.\n",
        "  б) Найти вероятность, что среди 4-х карт окажется хотя бы один туз.**\n",
        "\n",
        "Используем классическую формулу определения вер-ти:   \n",
        "$P(A)=\\frac{m}{n}$\n",
        "\n",
        "и формулу сочетаний:\n",
        "$C^k_n=\\frac{n!}{k!(n-k)!}$\n",
        "\n",
        "Тогда,\n",
        "\n",
        "a) $m = C^4_{13}=\\frac{13!}{4!(13-4)!}$"
      ],
      "metadata": {
        "id": "DnQVAAg6Mh2O"
      }
    },
    {
      "cell_type": "code",
      "source": [
        "from math import factorial\n",
        "def sochetanie(n, k):\n",
        "    return int(factorial(n) / (factorial(k) * factorial(n - k)))\n",
        "\n",
        "print(f'm = {sochetanie(13,4)}')\n",
        " "
      ],
      "metadata": {
        "colab": {
          "base_uri": "https://localhost:8080/"
        },
        "id": "acIVD4skQUlg",
        "outputId": "45eaa8e4-0bf7-45b7-f2f3-0b209025157c"
      },
      "execution_count": 5,
      "outputs": [
        {
          "output_type": "stream",
          "name": "stdout",
          "text": [
            "m = 715\n"
          ]
        }
      ]
    },
    {
      "cell_type": "markdown",
      "source": [
        "$n = C^4_{52}=\\frac{52!}{4!(52-4)!}$"
      ],
      "metadata": {
        "id": "yDu69POtRpd8"
      }
    },
    {
      "cell_type": "code",
      "source": [
        "print(f'm = {sochetanie(52,4)}')"
      ],
      "metadata": {
        "colab": {
          "base_uri": "https://localhost:8080/"
        },
        "id": "yb0g7qb8R9QP",
        "outputId": "fe37390b-0d8a-41e5-d51f-c0b5252445c5"
      },
      "execution_count": 5,
      "outputs": [
        {
          "output_type": "stream",
          "name": "stdout",
          "text": [
            "m = 270725\n"
          ]
        }
      ]
    },
    {
      "cell_type": "markdown",
      "source": [
        "print(f'P = {715/270725}')"
      ],
      "metadata": {
        "id": "GycjVQhpSFMh"
      }
    },
    {
      "cell_type": "code",
      "source": [
        "print(f'P = {round(715/270725*100,2)}%')"
      ],
      "metadata": {
        "colab": {
          "base_uri": "https://localhost:8080/"
        },
        "id": "xm37PdVdSUGi",
        "outputId": "8e50a1c3-3717-4f1c-9af1-987e05f9a3ec"
      },
      "execution_count": 11,
      "outputs": [
        {
          "output_type": "stream",
          "name": "stdout",
          "text": [
            "P = 0.26%\n"
          ]
        }
      ]
    },
    {
      "cell_type": "markdown",
      "source": [
        "б) \"хотя бы один туз\" можно найти как обратную вер-ть \"из 4-х карт не оказалось ни одного туза\" и вычесть эту вер-ть из 1. Тогда,\n",
        "\n",
        "m = 270725 (найдено выше)\n",
        "\n",
        "$n = C^4_{48}=\\frac{48!}{4!(48-4)!}$ "
      ],
      "metadata": {
        "id": "kaZh8G5GTfXA"
      }
    },
    {
      "cell_type": "code",
      "source": [
        "print(f'm = {sochetanie(48,4)}')"
      ],
      "metadata": {
        "colab": {
          "base_uri": "https://localhost:8080/"
        },
        "id": "Bxp-KrZwUh2c",
        "outputId": "1084a44f-2c06-4bf5-928e-1b9c1f4d641b"
      },
      "execution_count": 12,
      "outputs": [
        {
          "output_type": "stream",
          "name": "stdout",
          "text": [
            "m = 194580\n"
          ]
        }
      ]
    },
    {
      "cell_type": "code",
      "source": [
        "print(f'P = {round((1-194580/270725)*100,2)}%')"
      ],
      "metadata": {
        "colab": {
          "base_uri": "https://localhost:8080/"
        },
        "id": "8gy6paX7JjjY",
        "outputId": "f23729f7-6bc4-4b8b-aa2c-ac7387bb528c"
      },
      "execution_count": 3,
      "outputs": [
        {
          "output_type": "stream",
          "name": "stdout",
          "text": [
            "P = 28.13%\n"
          ]
        }
      ]
    },
    {
      "cell_type": "markdown",
      "source": [
        "2.**На входной двери подъезда установлен кодовый замок, содержащий десять кнопок с цифрами от 0 до 9. Код содержит три цифры, которые нужно нажать одновременно. Какова вероятность того, что человек, не знающий код, откроет дверь с первой попытки?**\n",
        "\n",
        "Количество способов выбрать 3 кнопки из 10 равно числу сочетаний:\n",
        "\n",
        "$C^3_{10}=\\frac{10!}{3!(10-3)!}$"
      ],
      "metadata": {
        "id": "1UHTEUA6KAa7"
      }
    },
    {
      "cell_type": "code",
      "source": [
        "print(f'С = {sochetanie(10,3)}')"
      ],
      "metadata": {
        "colab": {
          "base_uri": "https://localhost:8080/"
        },
        "id": "ou3oZOzFMLNl",
        "outputId": "5ed5cb4c-c6ed-462a-a8d0-b1395c62c196"
      },
      "execution_count": 6,
      "outputs": [
        {
          "output_type": "stream",
          "name": "stdout",
          "text": [
            "С = 120\n"
          ]
        }
      ]
    },
    {
      "cell_type": "markdown",
      "source": [
        "Тогда вероятность открыть дверь с первой попытки = $\\frac{1}{120}$ или 0,83%"
      ],
      "metadata": {
        "id": "B0ZRbq57MkIq"
      }
    },
    {
      "cell_type": "markdown",
      "source": [
        "3.**В ящике имеется 15 деталей, из которых 9 окрашены. Рабочий случайным образом извлекает 3 детали. Какова вероятность того, что все извлеченные детали окрашены?**\n",
        "\n",
        "Используем классическую формулу определения вер-ти:   \n",
        "$P(A)=\\frac{m}{n}$\n",
        "\n",
        "Тогда,\n",
        "\n",
        "$m = C^3_{9}=\\frac{9!}{3!(9-3)!}$\n",
        "\n",
        "$n = C^3_{15}=\\frac{15!}{3!(15-3)!}$"
      ],
      "metadata": {
        "id": "P3KujW8wNK16"
      }
    },
    {
      "cell_type": "code",
      "source": [
        "print(f'm = {sochetanie(9,3)}')\n",
        "print(f'n = {sochetanie(15,3)}')"
      ],
      "metadata": {
        "colab": {
          "base_uri": "https://localhost:8080/"
        },
        "id": "G3FbRC4zODmJ",
        "outputId": "c989a63f-4868-4256-8ac1-bcff8e9e892f"
      },
      "execution_count": 8,
      "outputs": [
        {
          "output_type": "stream",
          "name": "stdout",
          "text": [
            "m = 84\n",
            "n = 455\n"
          ]
        }
      ]
    },
    {
      "cell_type": "code",
      "source": [
        "print(f'P = {round(84/455*100,2)}%')"
      ],
      "metadata": {
        "colab": {
          "base_uri": "https://localhost:8080/"
        },
        "id": "g16OGo1DOoZ3",
        "outputId": "e40e1adf-9c2b-40de-ee32-307334e077ec"
      },
      "execution_count": 12,
      "outputs": [
        {
          "output_type": "stream",
          "name": "stdout",
          "text": [
            "P = 18.46%\n"
          ]
        }
      ]
    },
    {
      "cell_type": "markdown",
      "source": [
        "4. **В лотерее 100 билетов. Из них 2 выигрышных. Какова вероятность того, что 2 приобретенных билета окажутся выигрышными?**\n",
        "\n",
        "Вероятность, что первый билет будет выигрышный = $\\frac {1}{100}$\n",
        "Вероятность, что второй билет будет выигрышный = $\\frac {1}{99}$\n",
        "Итоговая вероятность $P = \\frac{1}{100} * \\frac {1}{99} = \\frac {1}{9900}$\n",
        "или 0,01%"
      ],
      "metadata": {
        "id": "qzoVBV0vPM29"
      }
    }
  ]
}