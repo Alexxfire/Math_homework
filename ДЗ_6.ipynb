{
  "nbformat": 4,
  "nbformat_minor": 0,
  "metadata": {
    "colab": {
      "provenance": [],
      "toc_visible": true
    },
    "kernelspec": {
      "name": "python3",
      "display_name": "Python 3"
    },
    "language_info": {
      "name": "python"
    }
  },
  "cells": [
    {
      "cell_type": "markdown",
      "source": [
        "**Задача 1. Известно, что генеральная совокупность распределена нормально со средним квадратическим отклонением, равным 16.\n",
        "Найти доверительный интервал для оценки математического ожидания a с надежностью 0.95, если выборочная средняя M = 80, а объем выборки n = 256.**\n",
        "\n",
        "Т.к. нам известна $\\sigma$, то используем формулу:\n",
        "\n",
        "$\\displaystyle\\bar X\\pm Z_{\\alpha/2}\\cdot\\frac{\\sigma}{\\sqrt{n}}$"
      ],
      "metadata": {
        "id": "DnQVAAg6Mh2O"
      }
    },
    {
      "cell_type": "code",
      "source": [
        "import numpy as np\n",
        "from scipy import stats\n",
        "M = 80\n",
        "sigma = 16\n",
        "n = 256\n",
        "p = 0.95\n",
        "alpha = 1-0.95\n",
        "z = stats.norm.ppf(alpha/2)\n",
        "(M - z * sigma / np.sqrt(n), M + z * sigma / np.sqrt(n))"
      ],
      "metadata": {
        "colab": {
          "base_uri": "https://localhost:8080/"
        },
        "id": "Oh4PcW4hq0yg",
        "outputId": "d20fd33c-51d9-4d8d-e5f8-4b7505ba3125"
      },
      "execution_count": null,
      "outputs": [
        {
          "output_type": "execute_result",
          "data": {
            "text/plain": [
              "(81.95996398454005, 78.04003601545995)"
            ]
          },
          "metadata": {},
          "execution_count": 2
        }
      ]
    },
    {
      "cell_type": "markdown",
      "source": [
        "**Задача 2. В результате 10 независимых измерений некоторой величины X, выполненных с одинаковой точностью, получены опытные данные:\n",
        "6.9, 6.1, 6.2, 6.8, 7.5, 6.3, 6.4, 6.9, 6.7, 6.1   Предполагая, что результаты измерений подчинены нормальному закону распределения вероятностей, оценить истинное значение величины X при помощи доверительного интервала, покрывающего это значение с доверительной вероятностью 0,95.**\n",
        "\n",
        "Т.к. нам не известна $\\sigma$, то используем формулу:\n",
        "\n",
        "$\\displaystyle\\bar X\\pm t_{\\alpha/2}\\cdot\\frac{\\sigma_{несмещ}}{\\sqrt{n}}$"
      ],
      "metadata": {
        "id": "1UHTEUA6KAa7"
      }
    },
    {
      "cell_type": "code",
      "source": [
        "n = 10\n",
        "arr=np.array([6.9, 6.1, 6.2, 6.8, 7.5, 6.3, 6.4, 6.9, 6.7, 6.1])\n",
        "x = np.mean(arr)\n",
        "print(f'среднее = {x}')\n",
        "sigma = arr.std(ddof = 1)\n",
        "print(f'сигма = {sigma}')\n",
        "sigma_mean = sigma / (np.sqrt(n))\n",
        "print(f'ош. среднего = {sigma_mean}')"
      ],
      "metadata": {
        "colab": {
          "base_uri": "https://localhost:8080/"
        },
        "id": "ou3oZOzFMLNl",
        "outputId": "e6744628-f0fd-4f8e-fe7e-22ef46f76cfe"
      },
      "execution_count": null,
      "outputs": [
        {
          "output_type": "stream",
          "name": "stdout",
          "text": [
            "среднее = 6.590000000000001\n",
            "сигма = 0.4508017549014448\n",
            "ош. среднего = 0.142556031868954\n"
          ]
        }
      ]
    },
    {
      "cell_type": "code",
      "source": [
        "from statsmodels.stats.weightstats import _tconfint_generic as t_stat\n",
        "interval = t_stat(x, sigma_mean, n - 1, 1 - 0.95, 'two-sided')\n",
        "print(f\"Дов. интервал: {interval}\")"
      ],
      "metadata": {
        "colab": {
          "base_uri": "https://localhost:8080/"
        },
        "id": "BFSPwPTJB7gv",
        "outputId": "acd0470d-cc4c-4946-ef4d-7f34f8ba5bb7"
      },
      "execution_count": null,
      "outputs": [
        {
          "output_type": "stream",
          "name": "stdout",
          "text": [
            "Дов. интервал: (6.267515851415713, 6.912484148584288)\n"
          ]
        }
      ]
    },
    {
      "cell_type": "markdown",
      "source": [
        "# New Section"
      ],
      "metadata": {
        "id": "Tt6fjYK54X0T"
      }
    },
    {
      "cell_type": "markdown",
      "source": [
        "**Задача 3. Рост дочерей 175, 167, 154, 174, 178, 148, 160, 167, 169, 170\n",
        "Рост матерей  178, 165, 165, 173, 168, 155, 160, 164, 178, 175\n",
        "Используя эти данные построить 95% доверительный интервал для разности среднего роста родителей и детей.**\n",
        "\n",
        "Воспользуемся формулами:\n",
        "\n",
        "$\\delta\\pm t_{\\alpha/2}\\cdot S_\\delta$\n",
        "\n",
        "$D = \\frac{1}{2}(D_1 + D_2)$\n",
        "\n",
        "$S_\\delta = \\sqrt{\\frac{D}{n_1}+\\frac{D}{n_2}}$"
      ],
      "metadata": {
        "id": "P3KujW8wNK16"
      }
    },
    {
      "cell_type": "code",
      "source": [
        "n = 10\n",
        "a = np.array([175, 167, 154, 174, 178, 148, 160, 167, 169, 170])\n",
        "b = np.array([178, 165, 165, 173, 168, 155, 160, 164, 178, 175])\n",
        "x_1 = np.mean(a)\n",
        "x_2 = np.mean(b)\n",
        "delta = x_1 - x_2\n",
        "\n",
        "D1 = np.var(a, ddof = 1)\n",
        "D2 = np.var(b, ddof = 1)\n",
        "D = (D1 + D2) / 2\n",
        "\n",
        "S = np.sqrt(D/n + D/n)\n",
        "\n",
        "t = stats.t.ppf(0.975, 2 * (n - 1))\n",
        "\n",
        "interval = (delta - t*S, delta + t*S)\n",
        "print(f\"Дов. интервал: {interval}\")"
      ],
      "metadata": {
        "colab": {
          "base_uri": "https://localhost:8080/"
        },
        "id": "EBk8MqypBhFN",
        "outputId": "ba9d4d22-078d-40cf-c658-442fccf1377a"
      },
      "execution_count": null,
      "outputs": [
        {
          "output_type": "stream",
          "name": "stdout",
          "text": [
            "Дов. интервал: (-10.068418034506857, 6.268418034506846)\n"
          ]
        }
      ]
    }
  ]
}