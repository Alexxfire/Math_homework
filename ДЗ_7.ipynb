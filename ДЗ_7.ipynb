{
  "nbformat": 4,
  "nbformat_minor": 0,
  "metadata": {
    "colab": {
      "provenance": []
    },
    "kernelspec": {
      "name": "python3",
      "display_name": "Python 3"
    },
    "language_info": {
      "name": "python"
    }
  },
  "cells": [
    {
      "cell_type": "markdown",
      "source": [
        "**Задача 1. Даны две независимые выборки. Не соблюдается условие нормальности   x1: 380,420, 290;  y1: 140,360,200,900. Сделайте вывод по результатам, полученным с помощью функции, имеются ли статистические различия между группами?**\n",
        "\n",
        "Воспользуемся критерием Манна-Уитни."
      ],
      "metadata": {
        "id": "DnQVAAg6Mh2O"
      }
    },
    {
      "cell_type": "code",
      "source": [
        "import numpy as np\n",
        "import pandas as pd\n",
        "from scipy import stats\n",
        "x1 = np.array([380,420, 290])\n",
        "x2 = np.array([140,360,200,900])\n",
        "stats.mannwhitneyu(x1, x2)"
      ],
      "metadata": {
        "colab": {
          "base_uri": "https://localhost:8080/"
        },
        "id": "Sup3QPiAQrxd",
        "outputId": "a158ad5c-10e6-40da-9297-df6aa3b0dc8b"
      },
      "execution_count": null,
      "outputs": [
        {
          "output_type": "execute_result",
          "data": {
            "text/plain": [
              "MannwhitneyuResult(statistic=8.0, pvalue=0.6285714285714286)"
            ]
          },
          "metadata": {},
          "execution_count": 2
        }
      ]
    },
    {
      "cell_type": "markdown",
      "source": [
        "Поскольку p-значение не меньше 0,05, это означает, что у нас нет достаточных доказательств, чтобы сказать, что истинное среднее значение различается между двумя группами."
      ],
      "metadata": {
        "id": "tMuwY3uELkbG"
      }
    },
    {
      "cell_type": "markdown",
      "source": [
        "**Задача 2. Исследовалось влияние препарата на уровень давления пациентов. Сначала\n",
        "измерялось давление до приема препарата, потом через 10 минут и через 30 минут. Есть\n",
        "ли статистически значимые различия между измерениями давления? В выборках не соблюдается условие нормальности.\n",
        "1е измерение до приема препарата: 150, 160, 165, 145, 155\n",
        "2е измерение через 10 минут: 140, 155, 150, 130, 135\n",
        "3е измерение через 30 минут: 130, 130, 120, 130, 125**\n",
        "\n",
        "Воспользуемся критерием Фридмана (более 2-х выборок)."
      ],
      "metadata": {
        "id": "1UHTEUA6KAa7"
      }
    },
    {
      "cell_type": "code",
      "source": [
        "x1 = np.array([ 150, 160, 165, 145, 155])\n",
        "x2 = np.array([140, 155, 150, 130, 135])\n",
        "x3 = np.array([130, 130, 120, 130, 125])\n",
        "stats.friedmanchisquare(x1, x2, x3)"
      ],
      "metadata": {
        "colab": {
          "base_uri": "https://localhost:8080/"
        },
        "id": "CEdQ9TIbM4TC",
        "outputId": "d595f3a1-6b56-4e4d-daa2-4dff318f5254"
      },
      "execution_count": null,
      "outputs": [
        {
          "output_type": "execute_result",
          "data": {
            "text/plain": [
              "FriedmanchisquareResult(statistic=9.578947368421062, pvalue=0.00831683351100441)"
            ]
          },
          "metadata": {},
          "execution_count": 2
        }
      ]
    },
    {
      "cell_type": "markdown",
      "source": [
        "Поскольку p-значение меньше 0,05, это означает, что статистические различия есть и препарат действует."
      ],
      "metadata": {
        "id": "AC4SIGwJOpd_"
      }
    },
    {
      "cell_type": "markdown",
      "source": [
        "**Задача 3. Сравните 1 и 2 е измерения, предполагая, что 3го измерения через 30 минут не было. Есть ли статистически значимые различия между измерениями давления?**\n",
        "\n",
        "Воспользуемся критерием Уилкоксона (2-е зависимые выборки)."
      ],
      "metadata": {
        "id": "P3KujW8wNK16"
      }
    },
    {
      "cell_type": "code",
      "source": [
        "x1 = np.array([150, 160, 165, 145, 155])\n",
        "x2 = np.array([140, 155, 150, 130, 135])\n",
        "\n",
        "stats.wilcoxon(x1, x2)"
      ],
      "metadata": {
        "colab": {
          "base_uri": "https://localhost:8080/"
        },
        "id": "XLrPBeVUPY9z",
        "outputId": "ea1033d1-7181-4cf6-98ff-9b06e8318887"
      },
      "execution_count": null,
      "outputs": [
        {
          "output_type": "execute_result",
          "data": {
            "text/plain": [
              "WilcoxonResult(statistic=0.0, pvalue=0.0625)"
            ]
          },
          "metadata": {},
          "execution_count": 3
        }
      ]
    },
    {
      "cell_type": "markdown",
      "source": [
        "Поскольку p-значение не меньше 0,05, это означает, что у нас нет достаточных доказательств, чтобы сказать, что препарат действует."
      ],
      "metadata": {
        "id": "-RYIvlWxPkjm"
      }
    },
    {
      "cell_type": "markdown",
      "source": [
        "**Задача 4. Даны 3 группы учеников плавания. Не соблюдается условие нормальности. В 1 группе время на дистанцию 50 м составляют: 56, 60, 62, 55, 71, 67, 59, 58, 64, 67. Вторая группа : 57, 58, 69, 48, 72, 70, 68, 71, 50, 53.\n",
        "Третья группа: 57, 67, 49, 48, 47, 55, 66, 51, 54. Есть ли статистически значимые различия между группами?**\n",
        "\n",
        "Воспользуемся кКритерием Крускала–Уоллиса (непараметрический тест, используемый для сравнения нескольких групп)."
      ],
      "metadata": {
        "id": "4XtnOBcuOJUc"
      }
    },
    {
      "cell_type": "code",
      "source": [
        "x1 = np.array([56, 60, 62, 55, 71, 67, 59, 58, 64, 67])\n",
        "x2 = np.array([57, 58, 69, 48, 72, 70, 68, 71, 50, 53])\n",
        "x3 = np.array([57, 67, 49, 48, 47, 55, 66, 51, 54])\n",
        "\n",
        "stats.kruskal(x1, x2, x3)"
      ],
      "metadata": {
        "colab": {
          "base_uri": "https://localhost:8080/"
        },
        "id": "P2oeao6EQMFM",
        "outputId": "0fd7b382-a60f-41c4-930c-c1720fe7514f"
      },
      "execution_count": null,
      "outputs": [
        {
          "output_type": "execute_result",
          "data": {
            "text/plain": [
              "KruskalResult(statistic=5.465564058257224, pvalue=0.0650380998590494)"
            ]
          },
          "metadata": {},
          "execution_count": 4
        }
      ]
    },
    {
      "cell_type": "markdown",
      "source": [
        "Поскольку p-значение не меньше 0,05, это означает, что у нас нет достаточных доказательств, чтобы сказать, что истинное среднее значение различается между этими группами."
      ],
      "metadata": {
        "id": "u7L-YUPXQRkY"
      }
    },
    {
      "cell_type": "markdown",
      "source": [
        "**Задача 5. Заявляется, что партия изготавливается со средним арифметическим 2,5 см. Проверить данную гипотезу, если известно, что размеры изделий подчинены нормальному закону распределения. Объем выборки 10, уровень статистической значимости 5%. 2.51, 2.35, 2.74, 2.56, 2.40, 2.36, 2.65, 2.7, 2.67, 2.34**\n",
        "\n",
        "Дисперсия неизвестна, воспользуемся t статистикой:  \n",
        "\n",
        "$t=\\frac{X - \\mu}{\\sigma / \\sqrt n}$ \n",
        "\n",
        "$H0 : \\mu = \\mu_0$\n",
        "\n",
        "$H1 : \\mu \\neq \\mu_0$"
      ],
      "metadata": {
        "id": "zvx-qLLVOdyV"
      }
    },
    {
      "cell_type": "code",
      "source": [
        "\n",
        "arr=np.array([2.51, 2.35, 2.74, 2.56, 2.40, 2.36, 2.65, 2.7, 2.67, 2.34])\n",
        "print(f'Среднее: {np.mean(arr)},\\n'\n",
        "      f'Станд. несмещ.: {np.std(arr, ddof=1)}')\n",
        "t = (np.mean(arr)-2.5)/(np.std(arr, ddof=1)/np.sqrt(10))\n",
        "print(f't = {t}')"
      ],
      "metadata": {
        "colab": {
          "base_uri": "https://localhost:8080/"
        },
        "id": "sS0yD6Dg6D-7",
        "outputId": "3502a033-7ff1-43fb-e09b-4ab81ec52f0d"
      },
      "execution_count": null,
      "outputs": [
        {
          "output_type": "stream",
          "name": "stdout",
          "text": [
            "Среднее: 2.5279999999999996,\n",
            "Станд. несмещ.: 0.1572542173961923\n",
            "t = 0.5630613661802959\n"
          ]
        }
      ]
    },
    {
      "cell_type": "code",
      "source": [
        "Tt=stats.t.ppf(0.95,9)\n",
        "print(f'Табличное зн.: {Tt}')"
      ],
      "metadata": {
        "colab": {
          "base_uri": "https://localhost:8080/"
        },
        "id": "oOjYDG0K7vkW",
        "outputId": "43a9b408-ca60-473c-d483-a215c0341798"
      },
      "execution_count": null,
      "outputs": [
        {
          "output_type": "stream",
          "name": "stdout",
          "text": [
            "Табличное зн.: 1.8331129326536335\n"
          ]
        }
      ]
    },
    {
      "cell_type": "markdown",
      "source": [
        "Поскольку $|t_н|<t_t$ , принимаем нулевую гипотезу, изделия соответствуют заявленному размеру."
      ],
      "metadata": {
        "id": "mWeq8uTv9HL2"
      }
    }
  ]
}